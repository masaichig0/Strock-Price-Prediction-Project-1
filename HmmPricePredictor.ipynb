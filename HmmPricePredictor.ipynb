{
 "cells": [
  {
   "cell_type": "code",
   "execution_count": 1,
   "metadata": {},
   "outputs": [],
   "source": [
    "import pandas as pd\n",
    "import numpy as np\n",
    "import datetime as dt\n",
    "from datetime import datetime\n",
    "import pandas_datareader as pdr\n",
    "import yfinance as yf\n",
    "import talib as ta\n",
    "from talib import MA_Type\n",
    "from statsmodels.tsa.stattools import adfuller\n",
    "import matplotlib as mpl\n",
    "import itertools\n",
    "import matplotlib.pyplot as plt\n",
    "from sklearn.metrics import confusion_matrix\n",
    "import tensorflow as tf\n",
    "import tensorflow_hub as hub\n",
    "from tensorflow.keras import layers\n",
    "import random\n",
    "from random import choice\n",
    "import os\n",
    "import pmdarima as pm\n",
    "from sklearn.metrics import accuracy_score, precision_recall_fscore_support\n",
    "from hmmlearn import hmm\n",
    "from hmmlearn.hmm import GaussianHMM\n",
    "from matplotlib import cm\n",
    "from matplotlib.dates import YearLocator, MonthLocator\n",
    "import datetime\n",
    "from sklearn.model_selection import train_test_split\n",
    "import warnings\n",
    "warnings.filterwarnings(\"ignore\")\n",
    "from time_series_helper_functions import *\n",
    "from tqdm import tqdm\n",
    "import logging"
   ]
  },
  {
   "cell_type": "code",
   "execution_count": 25,
   "metadata": {},
   "outputs": [],
   "source": [
    "class HmmPricePredictor:\n",
    "    def __init__(self, symbol, data_for, test_size, data_length=50, n_hidden_states=4,\n",
    "                 n_steps_frac_close=50, n_steps_frac_high=10, n_steps_frac_low=10,\n",
    "                 n_latency_days=10,\n",
    "                 hmm_columns=[\"Open\", \"High\", \"Low\", \"Close\", \"Volume\", \"Adj Close\", \n",
    "                              \"frac_change_close\", \"frac_change_high\", \"frac_change_low\"], \n",
    "                sma_s=5, sma_m=20, sma_l=100):\n",
    "        self.symbol = symbol\n",
    "        self.data_length = data_length\n",
    "        self.df = self._get_data()\n",
    "        self.data_for = data_for\n",
    "        self.sma_s = sma_s\n",
    "        self.sma_m = sma_m\n",
    "        self.sma_l = sma_l\n",
    "        self.p_data = self._preprocess_data()\n",
    "        self.test_size = test_size\n",
    "        self.hmm_columns = hmm_columns\n",
    "        self.train, self.test_data, self.test = self._split_train_test()\n",
    "        self.hmm = GaussianHMM(n_components=n_hidden_states)\n",
    "        self.n_latency_days = n_latency_days\n",
    "        self._compute_all_possible_outcomes(n_steps_frac_close, \n",
    "                                      n_steps_frac_high, n_steps_frac_low)\n",
    "        \n",
    "        \n",
    "    def _get_data(self):\n",
    "        return get_data(self.symbol, self.data_length)\n",
    "    \n",
    "    def _preprocess_data(self):\n",
    "        return preprocess_data(self.df, self.data_for, SMA=True, sma_s=self.sma_s, sma_m=self.sma_m, sma_l=self.sma_l,\n",
    "              MACD=True, short_span=8, long_span=17, macd_span=9, \n",
    "              RSI=True, timeperiod=14, SOI=True, slowk_period=3, fastk_period=14, \n",
    "              Bband=True)\n",
    "    \n",
    "    def _extract_features_opendiff(self):\n",
    "        \"\"\"\n",
    "        Difference from open to close, high and low.\n",
    "        \"\"\"\n",
    "        data = self.p_data\n",
    "        data[\"frac_change_close\"] = (data[\"Adj Close\"] - data[\"Open\"]) / data[\"Open\"]\n",
    "        data[\"frac_change_high\"] = (data[\"High\"] - data[\"Open\"]) / data[\"Open\"]\n",
    "        data[\"frac_change_low\"] = (data[\"Open\"] - data[\"Low\"]) / data[\"Open\"]\n",
    "        data[\"Date\"] = data.index\n",
    "        \n",
    "        return data[self.hmm_columns].reset_index()\n",
    "    \n",
    "    def _split_train_test(self):\n",
    "        data = self._extract_features_opendiff()\n",
    "        train = data[:-self.test_size]\n",
    "        test = data[-self.test_size:]\n",
    "        \n",
    "        close = np.array(train[\"frac_change_close\"])\n",
    "        high = np.array(train[\"frac_change_high\"])\n",
    "        low = np.array(train[\"frac_change_low\"])\n",
    "        train_data = np.column_stack((close, high, low))\n",
    "        \n",
    "        close = np.array(test[\"frac_change_close\"])\n",
    "        high = np.array(test[\"frac_change_high\"])\n",
    "        low = np.array(test[\"frac_change_low\"])\n",
    "        test_data = np.column_stack((close, high, low))\n",
    "        \n",
    "        return train_data, test_data, test\n",
    "    \n",
    "    def fit(self):\n",
    "        return self.hmm.fit(self.train)\n",
    "    \n",
    "    # predict price then inverse method to get predicted price\n",
    "    def _compute_all_possible_outcomes(self, n_steps_frac_close, \n",
    "                                      n_steps_frac_high, n_steps_frac_low):\n",
    "        frac_close_range = np.linspace(-0.1, 0.1, n_steps_frac_close)\n",
    "        frac_high_range = np.linspace(0, 0.1, n_steps_frac_high)\n",
    "        frac_low_range = np.linspace(0, 0.1, n_steps_frac_low)\n",
    "        \n",
    "        self._possible_outcomes = np.array(list(itertools.product(\n",
    "                            frac_close_range, frac_high_range, frac_low_range)))\n",
    "        \n",
    "    def _get_most_probable_outcome(self, day_index):\n",
    "        previous_data_start_index = max(0, day_index - self.n_latency_days)\n",
    "        previous_data_end_index = max(0, day_index - 1)\n",
    "        previous_data_features = self.test_data[previous_data_start_index: previous_data_end_index]\n",
    "        #previous_data_features = previous_data\n",
    " \n",
    "        outcome_score = []\n",
    "        for possible_outcome in self._possible_outcomes:\n",
    "            total_data = np.row_stack(\n",
    "                (previous_data_features, possible_outcome))\n",
    "            outcome_score.append(self.hmm.score(total_data))\n",
    "        most_probable_outcome = self._possible_outcomes[np.argmax(\n",
    "            outcome_score)]\n",
    " \n",
    "        return most_probable_outcome\n",
    "\n",
    "    def predict_price(self, day_index):\n",
    "        open_price = self.test.iloc[day_index]['Open']\n",
    "        predicted_frac_change, _, _ = self._get_most_probable_outcome(\n",
    "            day_index)\n",
    "        return open_price * (1 + predicted_frac_change)\n",
    "    \n",
    "    def predict_prices_for_days(self, days):\n",
    "        predicted_prices = []\n",
    "        for day_index in tqdm(range(days)):\n",
    "            predicted_prices.append(self.predict_price(day_index))\n",
    " \n",
    "        return predicted_prices\n",
    "    # evaluate prediction\n",
    "    def _evaluate_preds(self, pred_prices, pred_days):\n",
    "        \"\"\"\n",
    "        pred_days: days on predict_prices_for_days\n",
    "        \"\"\"\n",
    "        y_test = self.test[self.data_for][:pred_days]\n",
    "        return evaluate_preds(y_test, pred_prices)\n",
    "    # show plot \n",
    "    def _plot(self, pred_prices, days_to_show, days):\n",
    "        \"\"\"\n",
    "        days: days on predict_prices_for_days\n",
    "        \"\"\"\n",
    "        _test_data = self.test[-days_to_show:]\n",
    "        days = np.array(self.test[:days_to_show][\"Date\"])\n",
    "        actual_prices = _test_data[self.data_for]\n",
    "\n",
    "        plt.rcParams.update({\"figure.figsize\": (10, 6), \"figure.dpi\": 120})\n",
    "        fig = plt.figure()\n",
    "        axes = fig.add_subplot(111)\n",
    "        axes.plot(days, actual_prices, 'bo-', label=\"Actual\")\n",
    "        axes.plot(days, pred_prices[-days_to_show:], 'r+-', label=\"Predited\")\n",
    "        axes.set_title(f'{self.symbol} stock price prediction', fontsize=16)\n",
    "\n",
    "        fig.autofmt_xdate()\n",
    "        plt.legend()\n",
    "        plt.show()\n",
    "    # create result chart then print the results\n",
    "    def create_results_df(self, preds):\n",
    "        result_df = pd.DataFrame({\"Actual\": self.test[\"Adj Close\"], \"Predict\": preds})\n",
    "        result_df[\"Absolute Error\"] = np.absolute(result_df[\"Actual\"] - result_df[\"Predict\"])\n",
    "        result_df[\"Percent_Error\"] = result_df[\"Absolute Error\"] / result_df[\"Actual\"] * 100\n",
    "        result_df[\"Open\"] = self.test[\"Open\"]\n",
    "        result_df[\"Actual Diff\"] = result_df[\"Actual\"] - result_df[\"Open\"]\n",
    "        result_df[\"Predict Diff\"] = result_df[\"Predict\"] - result_df[\"Open\"]\n",
    "        result_df[\"Actual Direction\"] = None\n",
    "        for i in range(len(result_df)):\n",
    "            if result_df[\"Actual Diff\"].iloc[i] > 0:\n",
    "                result_df[\"Actual Direction\"].iloc[i] = \"UP\"\n",
    "            elif result_df[\"Actual Diff\"].iloc[i] < 0:\n",
    "                result_df[\"Actual Direction\"].iloc[i] = \"DOWN\"\n",
    "        \n",
    "        result_df[\"Predict Direction\"] = None\n",
    "        for i in range(len(result_df)):\n",
    "            if result_df[\"Predict Diff\"].iloc[i] > 0:\n",
    "                result_df[\"Predict Direction\"].iloc[i] = \"UP\"\n",
    "            elif result_df[\"Predict Diff\"].iloc[i] < 0:\n",
    "                result_df[\"Predict Direction\"].iloc[i] = \"DOWN\"\n",
    "        \n",
    "        result_df[\"COUNTER\"] = 0\n",
    "        for i in range(len(result_df)):\n",
    "            if result_df[\"Actual Direction\"].iloc[i] == result_df[\"Predict Direction\"].iloc[i]:\n",
    "                result_df[\"COUNTER\"].iloc[i] = 1\n",
    "            elif result_df[\"Actual Direction\"].iloc[i] != result_df[\"Predict Direction\"].iloc[i]:\n",
    "                result_df[\"COUNTER\"].iloc[i] = 0\n",
    "        \n",
    "        return result_df[[\"Open\", \"Actual\", \"Predict\", 'Absolute Error', 'Percent_Error', 'Actual Diff',\n",
    "                        'Predict Diff', 'Actual Direction', 'Predict Direction', 'COUNTER']]\n",
    "    \n",
    "    # create python file and use this class from other notebook\n",
    "    def print_results(self, scores, result_df, outlier_mult=2):\n",
    "        evaluate_mae = scores[\"mae\"]\n",
    "        evaluate_mape = scores[\"mape\"]\n",
    "        outlier_mult = outlier_mult\n",
    "        counter_mae_outlier = 0\n",
    "        counter_mape_outlier = 0\n",
    "\n",
    "        counter_good_mae = 0\n",
    "        counter_good_mape = 0\n",
    "        \n",
    "        for error in result_df[\"Absolute Error\"]:\n",
    "            if error < evaluate_mae / outlier_mult:\n",
    "                counter_good_mae += 1\n",
    "        \n",
    "        for error in result_df[\"Absolute Error\"]:\n",
    "            if error < evaluate_mape / outlier_mult:\n",
    "                counter_good_mape += 1\n",
    "\n",
    "        for error in result_df[\"Absolute Error\"]:\n",
    "            if error > outlier_mult*evaluate_mae:\n",
    "                counter_mae_outlier += 1\n",
    "\n",
    "        for error in result_df[\"Absolute Error\"]:\n",
    "            if error > outlier_mult*evaluate_mape:\n",
    "                counter_mape_outlier += 1\n",
    "        \n",
    "        right_direc = result_df[\"COUNTER\"].sum()\n",
    "        right_direc_percent = np.round(right_direc / len(result_df) * 100, 2)\n",
    "        print(f\"{right_direc} of the results are right direction and it is {right_direc_percent}% of the result. \")\n",
    "        print(\"\")\n",
    "        \n",
    "        percent_outlier_mae =np.round((counter_mae_outlier / len(result_df)) * 100, 2)\n",
    "        percent_outlier_mape =np.round((counter_mape_outlier / len(result_df)) * 100, 2)\n",
    "        percent_good_mae = np.round((counter_good_mae / len(result_df)) * 100, 2)\n",
    "        percent_good_mape = np.round((counter_good_mape / len(result_df)) * 100, 2)\n",
    "        print(f\"----ERRORS are from Open price to {self.data_for} price---\\n\")\n",
    "        print(\"----OUTLIERS----\\n\")\n",
    "        print(f\"I found {counter_mae_outlier} outliers in MAE. \\n\")\n",
    "        print(f\"I found {counter_mape_outlier} outliers in MAPE. \\n\")\n",
    "        print(f\"{percent_outlier_mae}% of the data exceeds {outlier_mult} times MAE\\n\")\n",
    "        print(f\"{percent_outlier_mape}% of the data exceeds {outlier_mult} times MAPE\\n\")\n",
    "        print(\"\")\n",
    "        print(\"---GOOD RESULT---\\n\")\n",
    "        print(f\"{counter_good_mae} better than 1/{outlier_mult} the MAE. \\n\")\n",
    "        print(f\"{counter_good_mape} better than 1/{outlier_mult} the MAPE. \\n\")\n",
    "        print(f\"{percent_good_mae}% of the results are better than 1/{outlier_mult} the MAE\\n\")\n",
    "        print(f\"{percent_good_mape}% of the results are better than 1/{outlier_mult} the MAPE\\n\")\n",
    "        print(\"\")\n",
    "        print(\"---CONCLUSION---\")\n",
    "        print(f\"Tommorw's forecast has {percent_outlier_mae}% chance to exceed the error to be more than ${evaluate_mae*outlier_mult}.\")\n",
    "        print(f\"And {percent_good_mae}% chance to be within ${evaluate_mae / outlier_mult} from the forecast.\\n\")\n",
    "        print(f\"Tommorw's forecast has {percent_outlier_mape}% chance to exceed the error to be more than {evaluate_mape*outlier_mult}%.\")\n",
    "        print(f\"And Error to be {percent_good_mape}% chance to be within {evaluate_mae / outlier_mult}%.\\n\")"
   ]
  },
  {
   "cell_type": "code",
   "execution_count": 82,
   "metadata": {},
   "outputs": [
    {
     "name": "stdout",
     "output_type": "stream",
     "text": [
      "[*********************100%***********************]  1 of 1 completed\n"
     ]
    },
    {
     "data": {
      "text/plain": [
       "3193"
      ]
     },
     "execution_count": 82,
     "metadata": {},
     "output_type": "execute_result"
    }
   ],
   "source": [
    "a = get_data(\"AMD\", 50)\n",
    "test_size = int(len(a) *0.3)\n",
    "test_size"
   ]
  },
  {
   "cell_type": "code",
   "execution_count": 29,
   "metadata": {},
   "outputs": [
    {
     "name": "stdout",
     "output_type": "stream",
     "text": [
      "[*********************100%***********************]  1 of 1 completed\n"
     ]
    }
   ],
   "source": [
    "np.random.seed(1)\n",
    "test_size = 500\n",
    "amd = HmmPricePredictor(\"AMD\", \"Low\", test_size=test_size, data_length=50, n_hidden_states=4, n_steps_frac_close=10,\n",
    "                       n_steps_frac_high=10, n_steps_frac_low=50)"
   ]
  },
  {
   "cell_type": "code",
   "execution_count": 30,
   "metadata": {},
   "outputs": [
    {
     "data": {
      "text/plain": [
       "array([[0.48114577, 0.35532448, 0.10106632, 0.06246343],\n",
       "       [0.44853435, 0.37937047, 0.1010011 , 0.07109408],\n",
       "       [0.20747511, 0.25538139, 0.33174127, 0.20540223],\n",
       "       [0.20873683, 0.20208361, 0.35110905, 0.2380705 ]])"
      ]
     },
     "execution_count": 30,
     "metadata": {},
     "output_type": "execute_result"
    }
   ],
   "source": [
    "model = amd.fit()\n",
    "model.transmat_"
   ]
  },
  {
   "cell_type": "code",
   "execution_count": 31,
   "metadata": {},
   "outputs": [
    {
     "name": "stderr",
     "output_type": "stream",
     "text": [
      "100%|██████████| 500/500 [15:43<00:00,  1.89s/it]\n"
     ]
    }
   ],
   "source": [
    "preds = amd.predict_prices_for_days(test_size)"
   ]
  },
  {
   "cell_type": "code",
   "execution_count": 32,
   "metadata": {},
   "outputs": [
    {
     "data": {
      "image/png": "[encoded data removed]",
      "text/plain": [
       "<Figure size 1200x720 with 1 Axes>"
      ]
     },
     "metadata": {
      "needs_background": "light"
     },
     "output_type": "display_data"
    }
   ],
   "source": [
    "amd._plot(preds, test_size, test_size)"
   ]
  },
  {
   "cell_type": "code",
   "execution_count": 33,
   "metadata": {},
   "outputs": [
    {
     "data": {
      "text/plain": [
       "{'mae': 1.3781149,\n",
       " 'mse': 4.8505907,\n",
       " 'rmse': 2.2024057,\n",
       " 'mape': 1.4330181,\n",
       " 'mase': 0.6904757}"
      ]
     },
     "execution_count": 33,
     "metadata": {},
     "output_type": "execute_result"
    }
   ],
   "source": [
    "score = amd._evaluate_preds(preds, test_size)\n",
    "score"
   ]
  },
  {
   "cell_type": "code",
   "execution_count": 34,
   "metadata": {},
   "outputs": [
    {
     "data": {
      "text/html": [
       "<div>\n",
       "<style scoped>\n",
       "    .dataframe tbody tr th:only-of-type {\n",
       "        vertical-align: middle;\n",
       "    }\n",
       "\n",
       "    .dataframe tbody tr th {\n",
       "        vertical-align: top;\n",
       "    }\n",
       "\n",
       "    .dataframe thead th {\n",
       "        text-align: right;\n",
       "    }\n",
       "</style>\n",
       "<table border=\"1\" class=\"dataframe\">\n",
       "  <thead>\n",
       "    <tr style=\"text-align: right;\">\n",
       "      <th></th>\n",
       "      <th>Open</th>\n",
       "      <th>Actual</th>\n",
       "      <th>Predict</th>\n",
       "      <th>Absolute Error</th>\n",
       "      <th>Percent_Error</th>\n",
       "      <th>Actual Diff</th>\n",
       "      <th>Predict Diff</th>\n",
       "      <th>Actual Direction</th>\n",
       "      <th>Predict Direction</th>\n",
       "      <th>COUNTER</th>\n",
       "    </tr>\n",
       "  </thead>\n",
       "  <tbody>\n",
       "    <tr>\n",
       "      <th>10046</th>\n",
       "      <td>55.939999</td>\n",
       "      <td>52.830002</td>\n",
       "      <td>55.318443</td>\n",
       "      <td>2.488441</td>\n",
       "      <td>4.710280</td>\n",
       "      <td>-3.109997</td>\n",
       "      <td>-0.621556</td>\n",
       "      <td>DOWN</td>\n",
       "      <td>DOWN</td>\n",
       "      <td>1</td>\n",
       "    </tr>\n",
       "    <tr>\n",
       "      <th>10047</th>\n",
       "      <td>55.009998</td>\n",
       "      <td>53.500000</td>\n",
       "      <td>54.398776</td>\n",
       "      <td>0.898776</td>\n",
       "      <td>1.679955</td>\n",
       "      <td>-1.509998</td>\n",
       "      <td>-0.611222</td>\n",
       "      <td>DOWN</td>\n",
       "      <td>DOWN</td>\n",
       "      <td>1</td>\n",
       "    </tr>\n",
       "    <tr>\n",
       "      <th>10048</th>\n",
       "      <td>52.580002</td>\n",
       "      <td>54.680000</td>\n",
       "      <td>51.995780</td>\n",
       "      <td>2.684221</td>\n",
       "      <td>4.908963</td>\n",
       "      <td>2.099998</td>\n",
       "      <td>-0.584222</td>\n",
       "      <td>UP</td>\n",
       "      <td>DOWN</td>\n",
       "      <td>0</td>\n",
       "    </tr>\n",
       "    <tr>\n",
       "      <th>10049</th>\n",
       "      <td>55.720001</td>\n",
       "      <td>54.459999</td>\n",
       "      <td>55.100890</td>\n",
       "      <td>0.640891</td>\n",
       "      <td>1.176811</td>\n",
       "      <td>-1.260002</td>\n",
       "      <td>-0.619111</td>\n",
       "      <td>DOWN</td>\n",
       "      <td>DOWN</td>\n",
       "      <td>1</td>\n",
       "    </tr>\n",
       "    <tr>\n",
       "      <th>10050</th>\n",
       "      <td>54.790001</td>\n",
       "      <td>54.549999</td>\n",
       "      <td>54.181223</td>\n",
       "      <td>0.368776</td>\n",
       "      <td>0.676033</td>\n",
       "      <td>-0.240002</td>\n",
       "      <td>-0.608778</td>\n",
       "      <td>DOWN</td>\n",
       "      <td>DOWN</td>\n",
       "      <td>1</td>\n",
       "    </tr>\n",
       "  </tbody>\n",
       "</table>\n",
       "</div>"
      ],
      "text/plain": [
       "            Open     Actual    Predict  Absolute Error  Percent_Error  \\\n",
       "10046  55.939999  52.830002  55.318443        2.488441       4.710280   \n",
       "10047  55.009998  53.500000  54.398776        0.898776       1.679955   \n",
       "10048  52.580002  54.680000  51.995780        2.684221       4.908963   \n",
       "10049  55.720001  54.459999  55.100890        0.640891       1.176811   \n",
       "10050  54.790001  54.549999  54.181223        0.368776       0.676033   \n",
       "\n",
       "       Actual Diff  Predict Diff Actual Direction Predict Direction  COUNTER  \n",
       "10046    -3.109997     -0.621556             DOWN              DOWN        1  \n",
       "10047    -1.509998     -0.611222             DOWN              DOWN        1  \n",
       "10048     2.099998     -0.584222               UP              DOWN        0  \n",
       "10049    -1.260002     -0.619111             DOWN              DOWN        1  \n",
       "10050    -0.240002     -0.608778             DOWN              DOWN        1  "
      ]
     },
     "execution_count": 34,
     "metadata": {},
     "output_type": "execute_result"
    }
   ],
   "source": [
    "result_df = amd.create_results_df(preds)\n",
    "result_df.head()"
   ]
  },
  {
   "cell_type": "code",
   "execution_count": 35,
   "metadata": {},
   "outputs": [
    {
     "name": "stdout",
     "output_type": "stream",
     "text": [
      "266 of the results are right direction and it is 53.2% of the result. \n",
      "\n",
      "----ERRORS are from Open price to Low price---\n",
      "\n",
      "----OUTLIERS----\n",
      "\n",
      "I found 143 outliers in MAE. \n",
      "\n",
      "I found 134 outliers in MAPE. \n",
      "\n",
      "28.6% of the data exceeds 2 times MAE\n",
      "\n",
      "26.8% of the data exceeds 2 times MAPE\n",
      "\n",
      "\n",
      "---GOOD RESULT---\n",
      "\n",
      "119 better than 1/2 the MAE. \n",
      "\n",
      "128 better than 1/2 the MAPE. \n",
      "\n",
      "23.8% of the results are better than 1/2 the MAE\n",
      "\n",
      "25.6% of the results are better than 1/2 the MAPE\n",
      "\n",
      "\n",
      "---CONCLUSION---\n",
      "Tommorw's forecast has 28.6% chance to exceed the error to be more than $2.756229877471924.\n",
      "And 23.8% chance to be within $0.689057469367981 from the forecast.\n",
      "\n",
      "Tommorw's forecast has 26.8% chance to exceed the error to be more than 2.8660361766815186%.\n",
      "And Error to be 25.6% chance to be within 0.689057469367981%.\n",
      "\n"
     ]
    }
   ],
   "source": [
    "amd.print_results(score, result_df)"
   ]
  },
  {
   "cell_type": "code",
   "execution_count": 36,
   "metadata": {},
   "outputs": [
    {
     "data": {
      "text/plain": [
       "(10046, 500, (10046, 3), (500, 3))"
      ]
     },
     "execution_count": 36,
     "metadata": {},
     "output_type": "execute_result"
    }
   ],
   "source": [
    "train, test, _ = amd._split_train_test()\n",
    "len(train), len(test), train.shape, test.shape"
   ]
  },
  {
   "cell_type": "code",
   "execution_count": 65,
   "metadata": {},
   "outputs": [
    {
     "data": {
      "text/plain": [
       "500"
      ]
     },
     "execution_count": 65,
     "metadata": {},
     "output_type": "execute_result"
    }
   ],
   "source": [
    "len(preds)\n"
   ]
  },
  {
   "cell_type": "code",
   "execution_count": 13,
   "metadata": {},
   "outputs": [
    {
     "data": {
      "text/plain": [
       "array([[ 0.04498248,  0.04498248,  0.00346031],\n",
       "       [-0.01986755,  0.01986755,  0.02317861],\n",
       "       [ 0.02702724,  0.02702724,  0.01689179],\n",
       "       ...,\n",
       "       [-0.03626937,  0.00690853,  0.03762639],\n",
       "       [ 0.00726207,  0.01082939,  0.01146645],\n",
       "       [ 0.00387555,  0.01600199,  0.00962616]])"
      ]
     },
     "execution_count": 13,
     "metadata": {},
     "output_type": "execute_result"
    }
   ],
   "source": [
    "train"
   ]
  },
  {
   "cell_type": "code",
   "execution_count": null,
   "metadata": {},
   "outputs": [],
   "source": []
  }
 ],
 "metadata": {
  "kernelspec": {
   "display_name": "Python 3",
   "language": "python",
   "name": "python3"
  },
  "language_info": {
   "codemirror_mode": {
    "name": "ipython",
    "version": 3
   },
   "file_extension": ".py",
   "mimetype": "text/x-python",
   "name": "python",
   "nbconvert_exporter": "python",
   "pygments_lexer": "ipython3",
   "version": "3.8.5"
  }
 },
 "nbformat": 4,
 "nbformat_minor": 4
}
